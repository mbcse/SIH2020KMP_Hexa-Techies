{
 "cells": [
  {
   "cell_type": "code",
   "execution_count": 1,
   "metadata": {},
   "outputs": [],
   "source": [
    "import csv"
   ]
  },
  {
   "cell_type": "code",
   "execution_count": 2,
   "metadata": {},
   "outputs": [
    {
     "data": {
      "text/plain": [
       "['.ipynb_checkpoints',\n",
       " 'brute force.ipynb',\n",
       " 'final_script.ipynb',\n",
       " 'playing_with_csv.ipynb']"
      ]
     },
     "execution_count": 2,
     "metadata": {},
     "output_type": "execute_result"
    }
   ],
   "source": [
    "import os\n",
    "os.listdir('.')"
   ]
  },
  {
   "cell_type": "code",
   "execution_count": 4,
   "metadata": {},
   "outputs": [],
   "source": [
    "file_name='../Aerodrome_and_Site_Clearance_Form/Aerodrome_and_Site_Clearance_Form.csv'\n",
    "rows=[]\n",
    "with open(file_name, 'r',encoding=\"utf8\") as csvfile:\n",
    "    csvreader = csv.reader(csvfile) \n",
    "      \n",
    "    # extracting field names through first row \n",
    "    fields = next(csvreader) \n",
    "  \n",
    "    # extracting each data row one by one \n",
    "    for row in csvreader: \n",
    "        rows.append(row) "
   ]
  },
  {
   "cell_type": "code",
   "execution_count": 5,
   "metadata": {},
   "outputs": [
    {
     "name": "stdout",
     "output_type": "stream",
     "text": [
      "[[], ['', 'Aerodrome and Site Clearance ', 'Form ', ''], ['Name of the applicant ', 'Sudhanshu Chaudhary ', '', ''], ['Full Address ', 'Anmol Ratan Building ', '3rd Floor ', ''], ['Te No./Fax No. ', '9876543210 ', '', ''], ['Permanent E-Mail Address ', 'Sudhanshu@indianair.com ', '', ''], ['Name of the Directors/ Partners/Promoters ', 'None ', '', ''], ['Nature of the applicant firm or company ', 'Public Limited Company ', '', ''], ['Location of Aerodrame ', 'Greater Noida ', '', ''], ['Name of nearest civilian airport ', 'IGI ', '', ''], ['Nearest Civilain airport distance from proposed airport ', '84.2 kms ', '', ''], ['Tota Land Area identified ', '2200acres ', '', ''], ['Ownership of Land ', 'Governmnet ', 'Agriculture ', ''], ['Forest land ', 'None ', '', ''], ['If the land is not in ownership or possession ', 'N/A ', '', ''], ['Likely displacement of population ', 'Yes ', 'Rohtak ', ''], ['Status of Forest(Conservation) Act 1980 ', 'N/A ', '', ''], ['Status of Clearance under EMP Notification ', 'N/A ', '', ''], ['Status of Clearance under CRZ Notification ', 'N/A ', '', ''], ['Status of Clearance under Wildlife Act 1972 ', 'N/A ', '', ''], ['Category of aerodrome proposed ', 'Private ', 'Internation ', ''], ['Whether project located within 150 Km of an existing civilian airport ', 'Yes ', 'IGI Airport ', ''], ['Whether exemption from any conditions is sought. ', 'None ', '', ''], ['Allowing a greenfield airport within 150 Km of an existing civilian airport. ', 'None ', '', ''], ['Exemptions being sought form conditionalities imposed by any of the Central Agencies ', 'Yes ', 'Exemption of tax from MHRD ', ''], ['Facilitation in obtaining approval/clearance from a Central Agency. ', 'None ', '', ''], ['Site of Aerodrome ', 'Jewar ', '', ''], ['District of Aerodrome ', 'Gautam Budh Nagar ', '', ''], ['State of Aerodrome ', 'Uttar Pradesh ', '', ''], ['Implementing Agency ', 'Flughafen Zurich AG ', '', ''], ['Whether TechnoEconomic Feasibility Report (TM) has been submitted by the Applicant ', 'Done ', '', ''], ['Estimated Total Projec Cost ', '29560crore ', '', ''], ['Is any foreign participation envisaged. If yes from which countries ', 'Yes ', 'Swizerland ', ''], ['Capacity of passenger proposed ', '12million ', '', ''], ['Capacity of cargo proposed ', '2300tons ', '', ''], ['Number of runways ', '6 ', '', ''], ['Length of runways ', '6000ft ', '', ''], ['Number of taxiways ', '15 ', '', ''], ['Area of Passenger Terminal ', '1 ', '', ''], [], [], [], [], [], ['Table: Table_1'], [], ['Area of Cargo Terminal ', '1 ', '', ''], ['Area earmarked for city side development. ', 'Jewar ', '', ''], ['Passenger related amenities on city side like car parking ', 'Parking Slot ', '1000 car parking slots ', ''], ['Total Cost of Land ', '20000 cr ', '', ''], ['Cost of other adjunct infrastrcure ', '2000cr ', '', ''], ['Cost of Airside assets like Runways etc. ', '1500cr ', '', ''], ['Cost of Passenger Terminal ', '1000cr ', '', ''], ['Cost of Cargo Terminal and other airside aero facilities ', '2500cr ', '', ''], ['Cost of Residential ', '1000cr ', '', ''], ['Cost of Commerical-city side ', '1000cr ', '', ''], ['Cost of other facilities ', '1000cr ', '', ''], ['Equity Capital ', '15000cr ', '', ''], ['Term Loan ', '10000cr ', '', ''], ['External Commercial Borrowings ', 'None ', '', ''], ['Any other source ', 'None ', '', ''], ['Total Cost of Financing ', 'None ', '', ''], ['Foreign Direct Investment (FDI) ', 'None ', '', ''], ['Equity including Foreign Investment ', 'None ', '', ''], ['Pattern of share holding in the paidup capital ', 'N/A ', '', ''], ['Traffic projections made in the TEFR ', '12 million passengers per annum ', '', ''], ['Revenue projections', ' including details of fee etc. to be levied ', '150cr per anum ', '', ''], ['IRR/NPV estimates based on TEFR ', 'N/A ', '', ''], ['Accessibility to site ', 'Road ', '', ''], ['Proposed projects to provide connectivity ', 'Metro by DMRC ', '', ''], [], [], [], [], []]\n"
     ]
    }
   ],
   "source": [
    "print(rows)"
   ]
  },
  {
   "cell_type": "code",
   "execution_count": 6,
   "metadata": {
    "scrolled": true
   },
   "outputs": [
    {
     "name": "stdout",
     "output_type": "stream",
     "text": [
      "[['Aerodrome and Site Clearance', 'Form'], ['Name of the applicant', 'Sudhanshu Chaudhary'], ['Full Address', 'Anmol Ratan Building', '3rd Floor'], ['Te No./Fax No.', '9876543210'], ['Permanent E-Mail Address', 'Sudhanshu@indianair.com'], ['Name of the Directors/ Partners/Promoters', 'None'], ['Nature of the applicant firm or company', 'Public Limited Company'], ['Location of Aerodrame', 'Greater Noida'], ['Name of nearest civilian airport', 'IGI'], ['Nearest Civilain airport distance from proposed airport', '84.2 kms'], ['Tota Land Area identified', '2200acres'], ['Ownership of Land', 'Governmnet', 'Agriculture'], ['Forest land', 'None'], ['If the land is not in ownership or possession', 'N/A'], ['Likely displacement of population', 'Yes', 'Rohtak'], ['Status of Forest(Conservation) Act 1980', 'N/A'], ['Status of Clearance under EMP Notification', 'N/A'], ['Status of Clearance under CRZ Notification', 'N/A'], ['Status of Clearance under Wildlife Act 1972', 'N/A'], ['Category of aerodrome proposed', 'Private', 'Internation'], ['Whether project located within 150 Km of an existing civilian airport', 'Yes', 'IGI Airport'], ['Whether exemption from any conditions is sought.', 'None'], ['Allowing a greenfield airport within 150 Km of an existing civilian airport.', 'None'], ['Exemptions being sought form conditionalities imposed by any of the Central Agencies', 'Yes', 'Exemption of tax from MHRD'], ['Facilitation in obtaining approval/clearance from a Central Agency.', 'None'], ['Site of Aerodrome', 'Jewar'], ['District of Aerodrome', 'Gautam Budh Nagar'], ['State of Aerodrome', 'Uttar Pradesh'], ['Implementing Agency', 'Flughafen Zurich AG'], ['Whether TechnoEconomic Feasibility Report (TM) has been submitted by the Applicant', 'Done'], ['Estimated Total Projec Cost', '29560crore'], ['Is any foreign participation envisaged. If yes from which countries', 'Yes', 'Swizerland'], ['Capacity of passenger proposed', '12million'], ['Capacity of cargo proposed', '2300tons'], ['Number of runways', '6'], ['Length of runways', '6000ft'], ['Number of taxiways', '15'], ['Area of Passenger Terminal', '1'], ['Area of Cargo Terminal', '1'], ['Area earmarked for city side development.', 'Jewar'], ['Passenger related amenities on city side like car parking', 'Parking Slot', '1000 car parking slots'], ['Total Cost of Land', '20000 cr'], ['Cost of other adjunct infrastrcure', '2000cr'], ['Cost of Airside assets like Runways etc.', '1500cr'], ['Cost of Passenger Terminal', '1000cr'], ['Cost of Cargo Terminal and other airside aero facilities', '2500cr'], ['Cost of Residential', '1000cr'], ['Cost of Commerical-city side', '1000cr'], ['Cost of other facilities', '1000cr'], ['Equity Capital', '15000cr'], ['Term Loan', '10000cr'], ['External Commercial Borrowings', 'None'], ['Any other source', 'None'], ['Total Cost of Financing', 'None'], ['Foreign Direct Investment (FDI)', 'None'], ['Equity including Foreign Investment', 'None'], ['Pattern of share holding in the paidup capital', 'N/A'], ['Traffic projections made in the TEFR', '12 million passengers per annum'], ['Revenue projections', 'including details of fee etc. to be levied', '150cr per anum'], ['IRR/NPV estimates based on TEFR', 'N/A'], ['Accessibility to site', 'Road'], ['Proposed projects to provide connectivity', 'Metro by DMRC']]\n"
     ]
    }
   ],
   "source": [
    "#removing empty lines\n",
    "master_list = []\n",
    "for i in range(len(rows)):  \n",
    "    #print(\"rows:\",rows[i])\n",
    "    if(len(rows[i])>=2):\n",
    "        temp = []\n",
    "        for j in range(len(rows[i])):\n",
    "            if(len(rows[i][j])>1):\n",
    "                temp.append(rows[i][j].strip())\n",
    "        #print(\"temp:\",temp)\n",
    "        master_list.append(temp)\n",
    "    \n",
    "print(master_list)"
   ]
  },
  {
   "cell_type": "code",
   "execution_count": 7,
   "metadata": {
    "scrolled": false
   },
   "outputs": [
    {
     "name": "stdout",
     "output_type": "stream",
     "text": [
      "['Aerodrome and Site Clearance', 'Form']\n",
      "['Name of the applicant', 'Sudhanshu Chaudhary']\n",
      "['Full Address', 'Anmol Ratan Building', '3rd Floor']\n",
      "['Te No./Fax No.', '9876543210']\n",
      "['Permanent E-Mail Address', 'Sudhanshu@indianair.com']\n",
      "['Name of the Directors/ Partners/Promoters', 'None']\n",
      "['Nature of the applicant firm or company', 'Public Limited Company']\n",
      "['Location of Aerodrame', 'Greater Noida']\n",
      "['Name of nearest civilian airport', 'IGI']\n",
      "['Nearest Civilain airport distance from proposed airport', '84.2 kms']\n",
      "['Tota Land Area identified', '2200acres']\n",
      "['Ownership of Land', 'Governmnet', 'Agriculture']\n",
      "['Forest land', 'None']\n",
      "['If the land is not in ownership or possession', 'N/A']\n",
      "['Likely displacement of population', 'Yes', 'Rohtak']\n",
      "['Status of Forest(Conservation) Act 1980', 'N/A']\n",
      "['Status of Clearance under EMP Notification', 'N/A']\n",
      "['Status of Clearance under CRZ Notification', 'N/A']\n",
      "['Status of Clearance under Wildlife Act 1972', 'N/A']\n",
      "['Category of aerodrome proposed', 'Private', 'Internation']\n",
      "['Whether project located within 150 Km of an existing civilian airport', 'Yes', 'IGI Airport']\n",
      "['Whether exemption from any conditions is sought.', 'None']\n",
      "['Allowing a greenfield airport within 150 Km of an existing civilian airport.', 'None']\n",
      "['Exemptions being sought form conditionalities imposed by any of the Central Agencies', 'Yes', 'Exemption of tax from MHRD']\n",
      "['Facilitation in obtaining approval/clearance from a Central Agency.', 'None']\n",
      "['Site of Aerodrome', 'Jewar']\n",
      "['District of Aerodrome', 'Gautam Budh Nagar']\n",
      "['State of Aerodrome', 'Uttar Pradesh']\n",
      "['Implementing Agency', 'Flughafen Zurich AG']\n",
      "['Whether TechnoEconomic Feasibility Report (TM) has been submitted by the Applicant', 'Done']\n",
      "['Estimated Total Projec Cost', '29560crore']\n",
      "['Is any foreign participation envisaged. If yes from which countries', 'Yes', 'Swizerland']\n",
      "['Capacity of passenger proposed', '12million']\n",
      "['Capacity of cargo proposed', '2300tons']\n",
      "['Number of runways', '6']\n",
      "['Length of runways', '6000ft']\n",
      "['Number of taxiways', '15']\n",
      "['Area of Passenger Terminal', '1']\n",
      "['Area of Cargo Terminal', '1']\n",
      "['Area earmarked for city side development.', 'Jewar']\n",
      "['Passenger related amenities on city side like car parking', 'Parking Slot', '1000 car parking slots']\n",
      "['Total Cost of Land', '20000 cr']\n",
      "['Cost of other adjunct infrastrcure', '2000cr']\n",
      "['Cost of Airside assets like Runways etc.', '1500cr']\n",
      "['Cost of Passenger Terminal', '1000cr']\n",
      "['Cost of Cargo Terminal and other airside aero facilities', '2500cr']\n",
      "['Cost of Residential', '1000cr']\n",
      "['Cost of Commerical-city side', '1000cr']\n",
      "['Cost of other facilities', '1000cr']\n",
      "['Equity Capital', '15000cr']\n",
      "['Term Loan', '10000cr']\n",
      "['External Commercial Borrowings', 'None']\n",
      "['Any other source', 'None']\n",
      "['Total Cost of Financing', 'None']\n",
      "['Foreign Direct Investment (FDI)', 'None']\n",
      "['Equity including Foreign Investment', 'None']\n",
      "['Pattern of share holding in the paidup capital', 'N/A']\n",
      "['Traffic projections made in the TEFR', '12 million passengers per annum']\n",
      "['Revenue projections', 'including details of fee etc. to be levied', '150cr per anum']\n",
      "['IRR/NPV estimates based on TEFR', 'N/A']\n",
      "['Accessibility to site', 'Road']\n",
      "['Proposed projects to provide connectivity', 'Metro by DMRC']\n"
     ]
    }
   ],
   "source": [
    "for i in range(len(master_list)):\n",
    "    print(master_list[i])"
   ]
  },
  {
   "cell_type": "code",
   "execution_count": 8,
   "metadata": {},
   "outputs": [
    {
     "data": {
      "text/plain": [
       "'Form'"
      ]
     },
     "execution_count": 8,
     "metadata": {},
     "output_type": "execute_result"
    }
   ],
   "source": [
    "master_list[0][1]"
   ]
  },
  {
   "cell_type": "code",
   "execution_count": 9,
   "metadata": {
    "scrolled": true
   },
   "outputs": [
    {
     "name": "stdout",
     "output_type": "stream",
     "text": [
      "['Aerodrome and Site Clearance', 'Form']\n",
      "['Name of the applicant', 'Sudhanshu Chaudhary']\n",
      "['Full Address', 'Anmol Ratan Building', '3rd Floor']\n",
      "['Te No./Fax No.', '9876543210']\n",
      "['Permanent E-Mail Address', 'Sudhanshu@indianair.com']\n",
      "['Name of the Directors/ Partners/Promoters', 'None']\n",
      "['Nature of the applicant firm or company', 'Public Limited Company']\n",
      "['Location of Aerodrame', 'Greater Noida']\n",
      "['Name of nearest civilian airport', 'IGI']\n",
      "['Nearest Civilain airport distance from proposed airport', '84.2 kms']\n",
      "['Tota Land Area identified', '2200acres']\n",
      "['Ownership of Land', 'Governmnet', 'Agriculture']\n",
      "['Forest land', 'None']\n",
      "['If the land is not in ownership or possession', 'N/A']\n",
      "['Likely displacement of population', 'Yes', 'Rohtak']\n",
      "['Status of Forest(Conservation) Act 1980', 'N/A']\n",
      "['Status of Clearance under EMP Notification', 'N/A']\n",
      "['Status of Clearance under CRZ Notification', 'N/A']\n",
      "['Status of Clearance under Wildlife Act 1972', 'N/A']\n",
      "['Category of aerodrome proposed', 'Private', 'Internation']\n",
      "['Whether project located within 150 Km of an existing civilian airport', 'Yes', 'IGI Airport']\n",
      "['Whether exemption from any conditions is sought.', 'None']\n",
      "['Allowing a greenfield airport within 150 Km of an existing civilian airport.', 'None']\n",
      "['Exemptions being sought form conditionalities imposed by any of the Central Agencies', 'Yes', 'Exemption of tax from MHRD']\n",
      "['Facilitation in obtaining approval/clearance from a Central Agency.', 'None']\n",
      "['Site of Aerodrome', 'Jewar']\n",
      "['District of Aerodrome', 'Gautam Budh Nagar']\n",
      "['State of Aerodrome', 'Uttar Pradesh']\n",
      "['Implementing Agency', 'Flughafen Zurich AG']\n",
      "['Whether TechnoEconomic Feasibility Report (TM) has been submitted by the Applicant', 'Done']\n",
      "['Estimated Total Projec Cost', '29560crore']\n",
      "['Is any foreign participation envisaged. If yes from which countries', 'Yes', 'Swizerland']\n",
      "['Capacity of passenger proposed', '12million']\n",
      "['Capacity of cargo proposed', '2300tons']\n",
      "['Number of runways', '6']\n",
      "['Length of runways', '6000ft']\n",
      "['Number of taxiways', '15']\n",
      "['Area of Passenger Terminal', '1']\n",
      "['Area of Cargo Terminal', '1']\n",
      "['Area earmarked for city side development.', 'Jewar']\n",
      "['Passenger related amenities on city side like car parking', 'Parking Slot', '1000 car parking slots']\n",
      "['Total Cost of Land', '20000 cr']\n",
      "['Cost of other adjunct infrastrcure', '2000cr']\n",
      "['Cost of Airside assets like Runways etc.', '1500cr']\n",
      "['Cost of Passenger Terminal', '1000cr']\n",
      "['Cost of Cargo Terminal and other airside aero facilities', '2500cr']\n",
      "['Cost of Residential', '1000cr']\n",
      "['Cost of Commerical-city side', '1000cr']\n",
      "['Cost of other facilities', '1000cr']\n",
      "['Equity Capital', '15000cr']\n",
      "['Term Loan', '10000cr']\n",
      "['External Commercial Borrowings', 'None']\n",
      "['Any other source', 'None']\n",
      "['Total Cost of Financing', 'None']\n",
      "['Foreign Direct Investment (FDI)', 'None']\n",
      "['Equity including Foreign Investment', 'None']\n",
      "['Pattern of share holding in the paidup capital', 'N/A']\n",
      "['Traffic projections made in the TEFR', '12 million passengers per annum']\n",
      "['Revenue projections', 'including details of fee etc. to be levied', '150cr per anum']\n",
      "['IRR/NPV estimates based on TEFR', 'N/A']\n",
      "['Accessibility to site', 'Road']\n",
      "['Proposed projects to provide connectivity', 'Metro by DMRC']\n"
     ]
    }
   ],
   "source": [
    "dup = []\n",
    "for i in range(len(master_list)):\n",
    "    if len(master_list[i])>=2:\n",
    "        dup.append(master_list[i])\n",
    "        \n",
    "for i in dup:\n",
    "    print(i)"
   ]
  },
  {
   "cell_type": "code",
   "execution_count": 13,
   "metadata": {},
   "outputs": [
    {
     "name": "stdout",
     "output_type": "stream",
     "text": [
      "Aerodrome and Site Clearance\n"
     ]
    }
   ],
   "source": [
    "print(master_list[0][0])"
   ]
  },
  {
   "cell_type": "code",
   "execution_count": 18,
   "metadata": {},
   "outputs": [],
   "source": [
    "master_dict = {}\n",
    "for i in range(len(master_list)):  \n",
    "    \n",
    "    value = master_list[i][1]\n",
    "    try:\n",
    "        for j in master_list[i][2:]:\n",
    "            value+= \",\" + j\n",
    "        master_dict[master_list[i][0]] = value\n",
    "    except:\n",
    "        master_dict[master_list[i][0]] = value       "
   ]
  },
  {
   "cell_type": "code",
   "execution_count": 19,
   "metadata": {},
   "outputs": [
    {
     "data": {
      "text/plain": [
       "{'Aerodrome and Site Clearance': 'Form',\n",
       " 'Name of the applicant': 'Sudhanshu Chaudhary',\n",
       " 'Full Address': 'Anmol Ratan Building,3rd Floor',\n",
       " 'Te No./Fax No.': '9876543210',\n",
       " 'Permanent E-Mail Address': 'Sudhanshu@indianair.com',\n",
       " 'Name of the Directors/ Partners/Promoters': 'None',\n",
       " 'Nature of the applicant firm or company': 'Public Limited Company',\n",
       " 'Location of Aerodrame': 'Greater Noida',\n",
       " 'Name of nearest civilian airport': 'IGI',\n",
       " 'Nearest Civilain airport distance from proposed airport': '84.2 kms',\n",
       " 'Tota Land Area identified': '2200acres',\n",
       " 'Ownership of Land': 'Governmnet,Agriculture',\n",
       " 'Forest land': 'None',\n",
       " 'If the land is not in ownership or possession': 'N/A',\n",
       " 'Likely displacement of population': 'Yes,Rohtak',\n",
       " 'Status of Forest(Conservation) Act 1980': 'N/A',\n",
       " 'Status of Clearance under EMP Notification': 'N/A',\n",
       " 'Status of Clearance under CRZ Notification': 'N/A',\n",
       " 'Status of Clearance under Wildlife Act 1972': 'N/A',\n",
       " 'Category of aerodrome proposed': 'Private,Internation',\n",
       " 'Whether project located within 150 Km of an existing civilian airport': 'Yes,IGI Airport',\n",
       " 'Whether exemption from any conditions is sought.': 'None',\n",
       " 'Allowing a greenfield airport within 150 Km of an existing civilian airport.': 'None',\n",
       " 'Exemptions being sought form conditionalities imposed by any of the Central Agencies': 'Yes,Exemption of tax from MHRD',\n",
       " 'Facilitation in obtaining approval/clearance from a Central Agency.': 'None',\n",
       " 'Site of Aerodrome': 'Jewar',\n",
       " 'District of Aerodrome': 'Gautam Budh Nagar',\n",
       " 'State of Aerodrome': 'Uttar Pradesh',\n",
       " 'Implementing Agency': 'Flughafen Zurich AG',\n",
       " 'Whether TechnoEconomic Feasibility Report (TM) has been submitted by the Applicant': 'Done',\n",
       " 'Estimated Total Projec Cost': '29560crore',\n",
       " 'Is any foreign participation envisaged. If yes from which countries': 'Yes,Swizerland',\n",
       " 'Capacity of passenger proposed': '12million',\n",
       " 'Capacity of cargo proposed': '2300tons',\n",
       " 'Number of runways': '6',\n",
       " 'Length of runways': '6000ft',\n",
       " 'Number of taxiways': '15',\n",
       " 'Area of Passenger Terminal': '1',\n",
       " 'Area of Cargo Terminal': '1',\n",
       " 'Area earmarked for city side development.': 'Jewar',\n",
       " 'Passenger related amenities on city side like car parking': 'Parking Slot,1000 car parking slots',\n",
       " 'Total Cost of Land': '20000 cr',\n",
       " 'Cost of other adjunct infrastrcure': '2000cr',\n",
       " 'Cost of Airside assets like Runways etc.': '1500cr',\n",
       " 'Cost of Passenger Terminal': '1000cr',\n",
       " 'Cost of Cargo Terminal and other airside aero facilities': '2500cr',\n",
       " 'Cost of Residential': '1000cr',\n",
       " 'Cost of Commerical-city side': '1000cr',\n",
       " 'Cost of other facilities': '1000cr',\n",
       " 'Equity Capital': '15000cr',\n",
       " 'Term Loan': '10000cr',\n",
       " 'External Commercial Borrowings': 'None',\n",
       " 'Any other source': 'None',\n",
       " 'Total Cost of Financing': 'None',\n",
       " 'Foreign Direct Investment (FDI)': 'None',\n",
       " 'Equity including Foreign Investment': 'None',\n",
       " 'Pattern of share holding in the paidup capital': 'N/A',\n",
       " 'Traffic projections made in the TEFR': '12 million passengers per annum',\n",
       " 'Revenue projections': 'including details of fee etc. to be levied,150cr per anum',\n",
       " 'IRR/NPV estimates based on TEFR': 'N/A',\n",
       " 'Accessibility to site': 'Road',\n",
       " 'Proposed projects to provide connectivity': 'Metro by DMRC'}"
      ]
     },
     "execution_count": 19,
     "metadata": {},
     "output_type": "execute_result"
    }
   ],
   "source": [
    "master_dict"
   ]
  },
  {
   "cell_type": "code",
   "execution_count": 20,
   "metadata": {},
   "outputs": [
    {
     "name": "stdout",
     "output_type": "stream",
     "text": [
      "{'Aerodrome and Site Clearance': 'Form', 'Name of the applicant': 'Sudhanshu Chaudhary', 'Full Address': 'Anmol Ratan Building,3rd Floor', 'Te No./Fax No.': '9876543210', 'Permanent E-Mail Address': 'Sudhanshu@indianair.com', 'Name of the Directors/ Partners/Promoters': 'None', 'Nature of the applicant firm or company': 'Public Limited Company', 'Location of Aerodrame': 'Greater Noida', 'Name of nearest civilian airport': 'IGI', 'Nearest Civilain airport distance from proposed airport': '84.2 kms', 'Tota Land Area identified': '2200acres', 'Ownership of Land': 'Governmnet,Agriculture', 'Forest land': 'None', 'If the land is not in ownership or possession': 'N/A', 'Likely displacement of population': 'Yes,Rohtak', 'Status of Forest(Conservation) Act 1980': 'N/A', 'Status of Clearance under EMP Notification': 'N/A', 'Status of Clearance under CRZ Notification': 'N/A', 'Status of Clearance under Wildlife Act 1972': 'N/A', 'Category of aerodrome proposed': 'Private,Internation', 'Whether project located within 150 Km of an existing civilian airport': 'Yes,IGI Airport', 'Whether exemption from any conditions is sought.': 'None', 'Allowing a greenfield airport within 150 Km of an existing civilian airport.': 'None', 'Exemptions being sought form conditionalities imposed by any of the Central Agencies': 'Yes,Exemption of tax from MHRD', 'Facilitation in obtaining approval/clearance from a Central Agency.': 'None', 'Site of Aerodrome': 'Jewar', 'District of Aerodrome': 'Gautam Budh Nagar', 'State of Aerodrome': 'Uttar Pradesh', 'Implementing Agency': 'Flughafen Zurich AG', 'Whether TechnoEconomic Feasibility Report (TM) has been submitted by the Applicant': 'Done', 'Estimated Total Projec Cost': '29560crore', 'Is any foreign participation envisaged. If yes from which countries': 'Yes,Swizerland', 'Capacity of passenger proposed': '12million', 'Capacity of cargo proposed': '2300tons', 'Number of runways': '6', 'Length of runways': '6000ft', 'Number of taxiways': '15', 'Area of Passenger Terminal': '1', 'Area of Cargo Terminal': '1', 'Area earmarked for city side development.': 'Jewar', 'Passenger related amenities on city side like car parking': 'Parking Slot,1000 car parking slots', 'Total Cost of Land': '20000 cr', 'Cost of other adjunct infrastrcure': '2000cr', 'Cost of Airside assets like Runways etc.': '1500cr', 'Cost of Passenger Terminal': '1000cr', 'Cost of Cargo Terminal and other airside aero facilities': '2500cr', 'Cost of Residential': '1000cr', 'Cost of Commerical-city side': '1000cr', 'Cost of other facilities': '1000cr', 'Equity Capital': '15000cr', 'Term Loan': '10000cr', 'External Commercial Borrowings': 'None', 'Any other source': 'None', 'Total Cost of Financing': 'None', 'Foreign Direct Investment (FDI)': 'None', 'Equity including Foreign Investment': 'None', 'Pattern of share holding in the paidup capital': 'N/A', 'Traffic projections made in the TEFR': '12 million passengers per annum', 'Revenue projections': 'including details of fee etc. to be levied,150cr per anum', 'IRR/NPV estimates based on TEFR': 'N/A', 'Accessibility to site': 'Road', 'Proposed projects to provide connectivity': 'Metro by DMRC'}\n",
      "<class 'dict'>\n"
     ]
    }
   ],
   "source": [
    "import json\n",
    "json_object = json.dumps(master_dict, indent = 4)  \n",
    "json_final = json.loads(json_object)\n",
    "print(json_final)\n",
    "print(type(json_final))"
   ]
  },
  {
   "cell_type": "code",
   "execution_count": 22,
   "metadata": {},
   "outputs": [
    {
     "data": {
      "text/plain": [
       "dict"
      ]
     },
     "execution_count": 22,
     "metadata": {},
     "output_type": "execute_result"
    }
   ],
   "source": [
    "type(json_final)"
   ]
  },
  {
   "cell_type": "code",
   "execution_count": null,
   "metadata": {},
   "outputs": [],
   "source": []
  }
 ],
 "metadata": {
  "kernelspec": {
   "display_name": "Python 3",
   "language": "python",
   "name": "python3"
  },
  "language_info": {
   "codemirror_mode": {
    "name": "ipython",
    "version": 3
   },
   "file_extension": ".py",
   "mimetype": "text/x-python",
   "name": "python",
   "nbconvert_exporter": "python",
   "pygments_lexer": "ipython3",
   "version": "3.7.4"
  }
 },
 "nbformat": 4,
 "nbformat_minor": 2
}
