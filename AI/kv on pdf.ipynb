{
 "cells": [
  {
   "cell_type": "code",
   "execution_count": 1,
   "metadata": {},
   "outputs": [],
   "source": [
    "import pdf2image\n",
    "from pdf2image import convert_from_path\n",
    "pages = convert_from_path('AAI_doc.pdf', 500)"
   ]
  },
  {
   "cell_type": "code",
   "execution_count": null,
   "metadata": {},
   "outputs": [],
   "source": [
    "for page in pages:\n",
    "    page.save('out.png', 'JPEG')    \n",
    "    break"
   ]
  },
  {
   "cell_type": "code",
   "execution_count": null,
   "metadata": {},
   "outputs": [],
   "source": [
    "import boto3\n",
    "import sys\n",
    "import re\n",
    "import json\n",
    "\n",
    "\n",
    "def get_kv_map(file_name):\n",
    "\n",
    "    with open(file_name, 'rb') as file:\n",
    "        img_test = file.read()\n",
    "        bytes_test = bytearray(img_test)\n",
    "        print('Image loaded', file_name)\n",
    "\n",
    "    # process using image bytes\n",
    "    client = boto3.client('textract')\n",
    "    response = client.analyze_document(Document={'Bytes': bytes_test}, FeatureTypes=['FORMS'])\n",
    "\n",
    "    # Get the text blocks\n",
    "    blocks=response['Blocks']\n",
    "    \n",
    "\n",
    "    # get key and value maps\n",
    "    key_map = {}\n",
    "    value_map = {}\n",
    "    block_map = {}\n",
    "    for block in blocks:\n",
    "        block_id = block['Id']\n",
    "        block_map[block_id] = block\n",
    "        if block['BlockType'] == \"KEY_VALUE_SET\":\n",
    "            if 'KEY' in block['EntityTypes']:\n",
    "                key_map[block_id] = block\n",
    "            else:\n",
    "                value_map[block_id] = block\n",
    "\n",
    "    return key_map, value_map, block_map\n",
    "\n",
    "\n",
    "def get_kv_relationship(key_map, value_map, block_map):\n",
    "    kvs = {}\n",
    "    for block_id, key_block in key_map.items():\n",
    "        value_block = find_value_block(key_block, value_map)\n",
    "        key = get_text(key_block, block_map)\n",
    "        val = get_text(value_block, block_map)\n",
    "        kvs[key] = val\n",
    "    return kvs\n",
    "\n",
    "\n",
    "def find_value_block(key_block, value_map):\n",
    "    for relationship in key_block['Relationships']:\n",
    "        if relationship['Type'] == 'VALUE':\n",
    "            for value_id in relationship['Ids']:\n",
    "                value_block = value_map[value_id]\n",
    "    return value_block\n",
    "\n",
    "\n",
    "def get_text(result, blocks_map):\n",
    "    text = ''\n",
    "    if 'Relationships' in result:\n",
    "        for relationship in result['Relationships']:\n",
    "            if relationship['Type'] == 'CHILD':\n",
    "                for child_id in relationship['Ids']:\n",
    "                    word = blocks_map[child_id]\n",
    "                    if word['BlockType'] == 'WORD':\n",
    "                        text += word['Text'] + ' '\n",
    "                    if word['BlockType'] == 'SELECTION_ELEMENT':\n",
    "                        if word['SelectionStatus'] == 'SELECTED':\n",
    "                            text += 'X '    \n",
    "\n",
    "                                \n",
    "    return text\n",
    "\n",
    "\n",
    "def print_kvs(kvs):\n",
    "    for key, value in kvs.items():\n",
    "        print(key, \":\", value)\n",
    "\n",
    "\n",
    "def search_value(kvs, search_key):\n",
    "    for key, value in kvs.items():\n",
    "        if re.search(search_key, key, re.IGNORECASE):\n",
    "            return value"
   ]
  },
  {
   "cell_type": "code",
   "execution_count": null,
   "metadata": {},
   "outputs": [],
   "source": [
    "file_name = 'sample.png'\n",
    "key_map, value_map, block_map = get_kv_map(file_name)\n",
    "kvs = get_kv_relationship(key_map, value_map, block_map)\n",
    "print(\"\\n\\n== FOUND KEY : VALUE pairs ===\\n\")\n",
    "print_kvs(kvs)"
   ]
  },
  {
   "cell_type": "code",
   "execution_count": null,
   "metadata": {},
   "outputs": [],
   "source": [
    "file_name = 'out.png'\n",
    "key_map, value_map, block_map = get_kv_map(file_name)\n",
    "kvs = get_kv_relationship(key_map, value_map, block_map)\n",
    "print(\"\\n\\n== FOUND KEY : VALUE pairs ===\\n\")\n",
    "print_kvs(kvs)"
   ]
  },
  {
   "cell_type": "code",
   "execution_count": null,
   "metadata": {},
   "outputs": [],
   "source": []
  }
 ],
 "metadata": {
  "kernelspec": {
   "display_name": "Python 3",
   "language": "python",
   "name": "python3"
  },
  "language_info": {
   "codemirror_mode": {
    "name": "ipython",
    "version": 3
   },
   "file_extension": ".py",
   "mimetype": "text/x-python",
   "name": "python",
   "nbconvert_exporter": "python",
   "pygments_lexer": "ipython3",
   "version": "3.7.4"
  }
 },
 "nbformat": 4,
 "nbformat_minor": 2
}
